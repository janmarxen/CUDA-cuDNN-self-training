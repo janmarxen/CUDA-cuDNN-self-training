{
 "cells": [
  {
   "cell_type": "code",
   "execution_count": 13,
   "id": "a2d6fdf8",
   "metadata": {},
   "outputs": [],
   "source": [
    "!nvcc batch_reduction.cu -o batch_reduction"
   ]
  },
  {
   "cell_type": "markdown",
   "id": "273966c6",
   "metadata": {},
   "source": [
    "Execute NP using (on Microsoft Windows OS ./ is not needed)"
   ]
  },
  {
   "cell_type": "code",
   "execution_count": 23,
   "id": "4db67f41-fd6b-4a90-a119-9ef1bd805b6e",
   "metadata": {},
   "outputs": [
    {
     "name": "stdout",
     "output_type": "stream",
     "text": [
      "Submitted batch job 722563\n"
     ]
    }
   ],
   "source": [
    "!sbatch ./launch_job.sbatch"
   ]
  },
  {
   "cell_type": "code",
   "execution_count": 18,
   "id": "ad21561e-432d-4bb5-9739-dcaa1d7bb892",
   "metadata": {},
   "outputs": [
    {
     "name": "stdout",
     "output_type": "stream",
     "text": [
      "             JOBID PARTITION     NAME     USER ST       TIME  NODES NODELIST(REASON)\n"
     ]
    }
   ],
   "source": [
    "!squeue -u $USER"
   ]
  },
  {
   "cell_type": "code",
   "execution_count": 24,
   "id": "790d8272-7833-4f1a-bb43-3a1ae64825c0",
   "metadata": {},
   "outputs": [],
   "source": [
    "!nvcc batch_reduction_multiple.cu -o batch_reduction_multiple"
   ]
  }
 ],
 "metadata": {
  "kernelspec": {
   "display_name": "Python 3 (ipykernel)",
   "language": "python",
   "name": "python3"
  },
  "language_info": {
   "codemirror_mode": {
    "name": "ipython",
    "version": 3
   },
   "file_extension": ".py",
   "mimetype": "text/x-python",
   "name": "python",
   "nbconvert_exporter": "python",
   "pygments_lexer": "ipython3",
   "version": "3.12.3"
  }
 },
 "nbformat": 4,
 "nbformat_minor": 5
}
