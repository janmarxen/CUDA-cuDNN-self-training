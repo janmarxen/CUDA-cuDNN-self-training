{
 "cells": [
  {
   "cell_type": "code",
   "execution_count": 43,
   "id": "a2d6fdf8",
   "metadata": {},
   "outputs": [],
   "source": [
    "!nvcc batch_mat_mul.cu -o batch_mat_mul -lcurand"
   ]
  },
  {
   "cell_type": "code",
   "execution_count": 114,
   "id": "4515948c-5932-4fc7-991a-55f80524eb77",
   "metadata": {},
   "outputs": [],
   "source": [
    "!nvcc batch_mat_mul_scaling.cu -o batch_mat_mul_scaling -lcurand"
   ]
  },
  {
   "cell_type": "code",
   "execution_count": null,
   "id": "4759baee-5738-43bd-bc4a-d6d7ba625880",
   "metadata": {},
   "outputs": [],
   "source": [
    "!nvcc single_mat_mul_scaling.cu -o single_mat_mul_scaling -lcurand"
   ]
  },
  {
   "cell_type": "code",
   "execution_count": 118,
   "id": "4adab37f-382d-4dc7-9611-f5bfc2b6cab5",
   "metadata": {},
   "outputs": [
    {
     "name": "stdout",
     "output_type": "stream",
     "text": [
      "nvcc warning : '--device-debug (-G)' overrides '--generate-line-info (-lineinfo)'\n",
      "ptxas warning : Conflicting options --device-debug and --generate-line-info specified, ignoring --generate-line-info option\n"
     ]
    }
   ],
   "source": [
    "!nvcc -O3 -lineinfo single_mat_mul_profiling.cu -o single_mat_mul_profiling"
   ]
  },
  {
   "cell_type": "code",
   "execution_count": 119,
   "id": "4db67f41-fd6b-4a90-a119-9ef1bd805b6e",
   "metadata": {},
   "outputs": [
    {
     "name": "stdout",
     "output_type": "stream",
     "text": [
      "Submitted batch job 722653\n"
     ]
    }
   ],
   "source": [
    "!sbatch ./launch_job.sbatch"
   ]
  },
  {
   "cell_type": "code",
   "execution_count": 41,
   "id": "5c9175e6-3d28-41a3-a3d8-2e7f7ddfacc5",
   "metadata": {},
   "outputs": [],
   "source": [
    "!scancel 722588"
   ]
  },
  {
   "cell_type": "code",
   "execution_count": 117,
   "id": "ad21561e-432d-4bb5-9739-dcaa1d7bb892",
   "metadata": {},
   "outputs": [
    {
     "name": "stdout",
     "output_type": "stream",
     "text": [
      "             JOBID PARTITION     NAME     USER ST       TIME  NODES NODELIST(REASON)\n"
     ]
    }
   ],
   "source": [
    "!squeue -u $USER"
   ]
  }
 ],
 "metadata": {
  "kernelspec": {
   "display_name": "Python 3 (ipykernel)",
   "language": "python",
   "name": "python3"
  },
  "language_info": {
   "codemirror_mode": {
    "name": "ipython",
    "version": 3
   },
   "file_extension": ".py",
   "mimetype": "text/x-python",
   "name": "python",
   "nbconvert_exporter": "python",
   "pygments_lexer": "ipython3",
   "version": "3.12.3"
  }
 },
 "nbformat": 4,
 "nbformat_minor": 5
}
