{
 "cells": [
  {
   "cell_type": "code",
   "execution_count": 11,
   "id": "1f2dd506-9d7f-4df3-8787-d11ab585fbe5",
   "metadata": {},
   "outputs": [],
   "source": [
    "!module load CUDA/12\n",
    "!module load cuDNN/9.5.0.50-CUDA-12"
   ]
  },
  {
   "cell_type": "code",
   "execution_count": 19,
   "id": "a2d6fdf8",
   "metadata": {},
   "outputs": [],
   "source": [
    "!nvcc -I/p/software/default/stages/2025/software/cuDNN/9.5.0.50-CUDA-12/include \\\n",
    "    -L/p/software/default/stages/2025/software/cuDNN/9.5.0.50-CUDA-12/lib \\\n",
    "    -lcudnn -lcublas -o attention attention.cu"
   ]
  },
  {
   "cell_type": "code",
   "execution_count": 20,
   "id": "4db67f41-fd6b-4a90-a119-9ef1bd805b6e",
   "metadata": {},
   "outputs": [
    {
     "name": "stdout",
     "output_type": "stream",
     "text": [
      "Submitted batch job 722736\n"
     ]
    }
   ],
   "source": [
    "!sbatch ./launch_job.sbatch"
   ]
  },
  {
   "cell_type": "code",
   "execution_count": 23,
   "id": "ad21561e-432d-4bb5-9739-dcaa1d7bb892",
   "metadata": {},
   "outputs": [
    {
     "name": "stdout",
     "output_type": "stream",
     "text": [
      "             JOBID PARTITION     NAME     USER ST       TIME  NODES NODELIST(REASON)\n",
      "            722736      gpus cuda_pro  marxen1 CF       4:00      1 jsfc020\n"
     ]
    }
   ],
   "source": [
    "!squeue -u $USER"
   ]
  }
 ],
 "metadata": {
  "kernelspec": {
   "display_name": "Python 3 (ipykernel)",
   "language": "python",
   "name": "python3"
  },
  "language_info": {
   "codemirror_mode": {
    "name": "ipython",
    "version": 3
   },
   "file_extension": ".py",
   "mimetype": "text/x-python",
   "name": "python",
   "nbconvert_exporter": "python",
   "pygments_lexer": "ipython3",
   "version": "3.12.3"
  }
 },
 "nbformat": 4,
 "nbformat_minor": 5
}