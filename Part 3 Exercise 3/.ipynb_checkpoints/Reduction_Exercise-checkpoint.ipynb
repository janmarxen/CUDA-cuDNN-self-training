{
 "cells": [
  {
   "cell_type": "code",
   "execution_count": 10,
   "id": "a2d6fdf8",
   "metadata": {},
   "outputs": [],
   "source": [
    "!nvcc reduction.cu -o reduction"
   ]
  },
  {
   "cell_type": "markdown",
   "id": "273966c6",
   "metadata": {},
   "source": [
    "Execute NP using (on Microsoft Windows OS ./ is not needed)"
   ]
  },
  {
   "cell_type": "code",
   "execution_count": 11,
   "id": "bc6c946a",
   "metadata": {},
   "outputs": [
    {
     "name": "stdout",
     "output_type": "stream",
     "text": [
      "Execution time using large global: 0.119616 ms\n",
      " 0.308538 is equal to 0.308538 \n",
      "Execution time using smaller global: 0.042016 ms\n",
      " 0.308542 is equal to 0.308542 \n",
      "Execution time using local memory: 0.042720 ms\n",
      " 0.308579 is equal to 0.308579 \n",
      "Execution time using registers: 0.016896 ms\n",
      " -0.499725 is equal to 0.308634 \n"
     ]
    }
   ],
   "source": [
    "!./reduction"
   ]
  },
  {
   "cell_type": "code",
   "execution_count": null,
   "id": "7fffced9-8f0d-4c5d-bed0-9908fbe43464",
   "metadata": {},
   "outputs": [],
   "source": []
  }
 ],
 "metadata": {
  "kernelspec": {
   "display_name": "Python 3 (ipykernel)",
   "language": "python",
   "name": "python3"
  },
  "language_info": {
   "codemirror_mode": {
    "name": "ipython",
    "version": 3
   },
   "file_extension": ".py",
   "mimetype": "text/x-python",
   "name": "python",
   "nbconvert_exporter": "python",
   "pygments_lexer": "ipython3",
   "version": "3.12.3"
  }
 },
 "nbformat": 4,
 "nbformat_minor": 5
}
