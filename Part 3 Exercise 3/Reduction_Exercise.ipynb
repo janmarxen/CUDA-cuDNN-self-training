{
 "cells": [
  {
   "cell_type": "code",
   "execution_count": 33,
   "id": "a2d6fdf8",
   "metadata": {},
   "outputs": [],
   "source": [
    "!nvcc reduction.cu -o reduction"
   ]
  },
  {
   "cell_type": "markdown",
   "id": "273966c6",
   "metadata": {},
   "source": [
    "Execute NP using (on Microsoft Windows OS ./ is not needed)"
   ]
  },
  {
   "cell_type": "code",
   "execution_count": 34,
   "id": "bc6c946a",
   "metadata": {},
   "outputs": [
    {
     "name": "stdout",
     "output_type": "stream",
     "text": [
      "Greatest value: 127"
     ]
    }
   ],
   "source": [
    "!./reduction"
   ]
  },
  {
   "cell_type": "code",
   "execution_count": 3,
   "id": "7fffced9-8f0d-4c5d-bed0-9908fbe43464",
   "metadata": {},
   "outputs": [
    {
     "name": "stdout",
     "output_type": "stream",
     "text": [
      "==55648== NVPROF is profiling process 55648, command: ./reduction\n",
      "Greatest value: 31==55648== Profiling application: ./reduction\n",
      "==55648== Profiling result:\n",
      "            Type  Time(%)      Time     Calls       Avg       Min       Max  Name\n",
      " GPU activities:   45.36%  2.8160us         1  2.8160us  2.8160us  2.8160us  biggest_k(int*, int*, int)\n",
      "                   36.08%  2.2400us         1  2.2400us  2.2400us  2.2400us  [CUDA memcpy DtoH]\n",
      "                   18.56%  1.1520us         1  1.1520us  1.1520us  1.1520us  [CUDA memcpy HtoD]\n",
      "      API calls:   98.91%  100.30ms         2  50.150ms  4.0200us  100.30ms  cudaMalloc\n",
      "                    0.74%  748.99us         1  748.99us  748.99us  748.99us  cudaLaunchKernel\n",
      "                    0.23%  229.93us       114  2.0160us      80ns  94.660us  cuDeviceGetAttribute\n",
      "                    0.07%  67.830us         2  33.915us  29.220us  38.610us  cudaMemcpy\n",
      "                    0.03%  30.830us         1  30.830us  30.830us  30.830us  cuDeviceGetName\n",
      "                    0.01%  9.6400us         1  9.6400us  9.6400us  9.6400us  cuDeviceGetPCIBusId\n",
      "                    0.01%  6.0900us         1  6.0900us  6.0900us  6.0900us  cudaFree\n",
      "                    0.01%  5.3900us         1  5.3900us  5.3900us  5.3900us  cudaDeviceSynchronize\n",
      "                    0.00%  1.4600us         3     486ns     150ns  1.0900us  cuDeviceGetCount\n",
      "                    0.00%     350ns         1     350ns     350ns     350ns  cuDeviceTotalMem\n",
      "                    0.00%     330ns         2     165ns     100ns     230ns  cuDeviceGet\n",
      "                    0.00%     270ns         1     270ns     270ns     270ns  cuModuleGetLoadingMode\n",
      "                    0.00%     140ns         1     140ns     140ns     140ns  cuDeviceGetUuid\n"
     ]
    }
   ],
   "source": [
    "!nvprof ./reduction"
   ]
  }
 ],
 "metadata": {
  "kernelspec": {
   "display_name": "Python 3 (ipykernel)",
   "language": "python",
   "name": "python3"
  },
  "language_info": {
   "codemirror_mode": {
    "name": "ipython",
    "version": 3
   },
   "file_extension": ".py",
   "mimetype": "text/x-python",
   "name": "python",
   "nbconvert_exporter": "python",
   "pygments_lexer": "ipython3",
   "version": "3.12.3"
  }
 },
 "nbformat": 4,
 "nbformat_minor": 5
}
